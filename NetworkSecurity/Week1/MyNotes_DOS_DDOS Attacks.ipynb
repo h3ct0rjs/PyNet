{
 "cells": [
  {
   "cell_type": "markdown",
   "metadata": {},
   "source": [
    "# Week 1\n",
    "\n",
    "We need to **use all our hardware and software at our disposal to protect our assets to effectively deploy them**, we need to fight against different threads out there, and to do that We're going to learn how to mitigate attacks, and create *counter attacks* using methods, *tools* and *techniques* from  public and private resources.\n",
    "\n",
    "In the first part of the course We're gonna talk about Denial of Service Attack and his variant Distributed Denial of Service Attack, both attacks are cyberattacks that disrupts the service of a machine, \n",
    "\n",
    ">Typically accomplished by flooding the targeted machine or resource with superfluous requests in an attempt to overload systems and prevent some or all legitimate requests from being fulfilled, in a distributed attack the incoming traffic flooding the victim originates from many different sourcesa\n",
    "\n",
    "<img src=\"https://media.scmagazineuk.com/images/2016/09/26/ddosattackex_1059804.png?format=png&zoom=1&quality=70&anchor=middlecenter&mode=pad\"/>\n",
    "The previous image is a basic computer network architecture of this kind of attack DDOS."
   ]
  },
  {
   "cell_type": "code",
   "execution_count": null,
   "metadata": {
    "collapsed": true
   },
   "outputs": [],
   "source": []
  }
 ],
 "metadata": {
  "kernelspec": {
   "display_name": "Python 3",
   "language": "python",
   "name": "python3"
  },
  "language_info": {
   "codemirror_mode": {
    "name": "ipython",
    "version": 3
   },
   "file_extension": ".py",
   "mimetype": "text/x-python",
   "name": "python",
   "nbconvert_exporter": "python",
   "pygments_lexer": "ipython3",
   "version": "3.5.4"
  }
 },
 "nbformat": 4,
 "nbformat_minor": 2
}
